{
 "cells": [
  {
   "cell_type": "code",
   "execution_count": 119,
   "metadata": {
    "collapsed": true
   },
   "outputs": [],
   "source": [
    "%matplotlib inline\n",
    "import matplotlib.pyplot as plt\n",
    "import pandas as pd\n",
    "from collections import defaultdict, Counter\n",
    "\n",
    "from sklearn.ensemble import RandomForestRegressor"
   ]
  },
  {
   "cell_type": "code",
   "execution_count": 173,
   "metadata": {
    "collapsed": true
   },
   "outputs": [],
   "source": [
    "df_agri = pd.read_csv('/private/tmp/test_agged.csv')\n",
    "# get uniq lat longs\n",
    "uniq_latlngs = set(tuple(t) for t in df_agri[['lat', 'lng']].values)\n",
    "lat_tick = np.median(sorted(np.diff(df_agri['lat'].unique())))\n",
    "lng_tick = np.median(sorted(np.diff(df_agri['lng'].unique())))\n",
    "uniq_argi_types = df_agri['type'].unique()"
   ]
  },
  {
   "cell_type": "code",
   "execution_count": 124,
   "metadata": {},
   "outputs": [],
   "source": [
    "weather_aggs = defaultdict(Counter)\n",
    "weather_vals = ['prcp', 'tmin', 'tmax', 'vp']\n",
    "for val in weather_vals:\n",
    "    df_weather = pd.read_csv('/private/tmp/{}.csv'.format(val), index_col=0)\n",
    "    for lat, lng in uniq_latlngs:\n",
    "        lat_mask = (df_weather['lat']<(lat+lat_tick)) & (df_weather['lat']>=(lat))\n",
    "        lng_mask = (df_weather['lng']>=(lng+lng_tick)) & (df_weather['lng']<(lng))\n",
    "        weather_aggs[(lat, lng)][val] += df_weather[lat_mask&lng_mask]['val'].mean()"
   ]
  },
  {
   "cell_type": "code",
   "execution_count": 146,
   "metadata": {},
   "outputs": [],
   "source": [
    "df_weather_by_loc = pd.DataFrame(weather_aggs).T\n",
    "df_weather_by_loc.index = df_weather_by_loc.index.set_names(['lat', 'lng'])\n",
    "df_weather_by_loc = df_weather_by_loc.dropna()"
   ]
  },
  {
   "cell_type": "code",
   "execution_count": 175,
   "metadata": {},
   "outputs": [],
   "source": [
    "df_outs = []\n",
    "rfr = RandomForestRegressor(n_estimators=10)\n",
    "for ag_type in uniq_argi_types:\n",
    "    df_one_type = df_agri[df_agri['type']==ag_type].set_index(['lat', 'lng'])\n",
    "    df_train = df_one_type.join(df_weather_by_loc, how='inner')\n",
    "    \n",
    "    # do the fitting and predicting\n",
    "    rfr.fit(df_train[weather_vals], df_train['ct'])\n",
    "    ct_ = rfr.predict(df_weather_by_loc[weather_vals])\n",
    "    \n",
    "    df_weather_by_loc['pred__'+str(ag_type)] = ct_\n",
    "    \n",
    "    df_out = df_weather_by_loc[['pred__'+str(ag_type)]].reset_index()\n",
    "    df_out['type'] = ag_type\n",
    "    df_out['ct'] = df_out['pred__'+str(ag_type)].astype(int)\n",
    "    \n",
    "    df_outs.append(df_out[['lat','lng','type','ct']])"
   ]
  },
  {
   "cell_type": "code",
   "execution_count": 176,
   "metadata": {},
   "outputs": [],
   "source": [
    "df_out_fin = pd.concat(df_outs)"
   ]
  },
  {
   "cell_type": "code",
   "execution_count": 178,
   "metadata": {},
   "outputs": [],
   "source": [
    "df_out_fin.to_csv('/private/tmp/test_agged_predictions.csv', index=False)"
   ]
  },
  {
   "cell_type": "code",
   "execution_count": null,
   "metadata": {
    "collapsed": true
   },
   "outputs": [],
   "source": []
  }
 ],
 "metadata": {
  "kernelspec": {
   "display_name": "Python 2",
   "language": "python",
   "name": "python2"
  },
  "language_info": {
   "codemirror_mode": {
    "name": "ipython",
    "version": 2
   },
   "file_extension": ".py",
   "mimetype": "text/x-python",
   "name": "python",
   "nbconvert_exporter": "python",
   "pygments_lexer": "ipython2",
   "version": "2.7.9"
  }
 },
 "nbformat": 4,
 "nbformat_minor": 2
}
