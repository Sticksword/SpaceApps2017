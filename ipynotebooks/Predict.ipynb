{
 "cells": [
  {
   "cell_type": "code",
   "execution_count": 119,
   "metadata": {
    "collapsed": true
   },
   "outputs": [],
   "source": [
    "%matplotlib inline\n",
    "import matplotlib.pyplot as plt\n",
    "import pandas as pd\n",
    "from collections import defaultdict, Counter\n",
    "\n",
    "from sklearn.ensemble import RandomForestRegressor"
   ]
  },
  {
   "cell_type": "code",
   "execution_count": 87,
   "metadata": {
    "collapsed": true
   },
   "outputs": [],
   "source": [
    "df_agri = pd.read_csv('/private/tmp/test_agged.csv')\n",
    "# get uniq lat longs\n",
    "uniq_latlngs = set(tuple(t) for t in df_agri[['lat', 'lng']].values)\n",
    "lat_tick = np.median(sorted(np.diff(df_agri['lat'].unique())))\n",
    "lng_tick = np.median(sorted(np.diff(df_agri['lng'].unique())))"
   ]
  },
  {
   "cell_type": "code",
   "execution_count": 124,
   "metadata": {},
   "outputs": [],
   "source": [
    "weather_aggs = defaultdict(Counter)\n",
    "weather_vals = ['prcp', 'tmin', 'tmax', 'vp']\n",
    "for val in weather_vals:\n",
    "    df_weather = pd.read_csv('/private/tmp/{}.csv'.format(val), index_col=0)\n",
    "    for lat, lng in uniq_latlngs:\n",
    "        lat_mask = (df_weather['lat']<(lat+lat_tick)) & (df_weather['lat']>=(lat))\n",
    "        lng_mask = (df_weather['lng']>=(lng+lng_tick)) & (df_weather['lng']<(lng))\n",
    "        weather_aggs[(lat, lng)][val] += df_weather[lat_mask&lng_mask]['val'].mean()"
   ]
  },
  {
   "cell_type": "code",
   "execution_count": 146,
   "metadata": {},
   "outputs": [],
   "source": [
    "df_weather_by_loc = pd.DataFrame(weather_aggs).T\n",
    "df_weather_by_loc.index = df_weather_by_loc.index.set_names(['lat', 'lng'])\n",
    "df_weather_by_loc = df_weather_by_loc.dropna()"
   ]
  },
  {
   "cell_type": "code",
   "execution_count": 147,
   "metadata": {},
   "outputs": [],
   "source": [
    "# corn only\n",
    "df_corn = df_agri[df_agri['type']==1].set_index(['lat', 'lng'])"
   ]
  },
  {
   "cell_type": "code",
   "execution_count": 150,
   "metadata": {},
   "outputs": [],
   "source": [
    "df_plot = df_corn.join(df_weather_by_loc, how='inner')"
   ]
  },
  {
   "cell_type": "code",
   "execution_count": 151,
   "metadata": {},
   "outputs": [
    {
     "data": {
      "text/plain": [
       "RandomForestRegressor(bootstrap=True, criterion='mse', max_depth=None,\n",
       "           max_features='auto', max_leaf_nodes=None,\n",
       "           min_impurity_split=1e-07, min_samples_leaf=1,\n",
       "           min_samples_split=2, min_weight_fraction_leaf=0.0,\n",
       "           n_estimators=10, n_jobs=1, oob_score=False, random_state=None,\n",
       "           verbose=0, warm_start=False)"
      ]
     },
     "execution_count": 151,
     "metadata": {},
     "output_type": "execute_result"
    }
   ],
   "source": [
    "rfr = RandomForestRegressor()\n",
    "rfr.fit(df_plot[weather_vals], df_plot['ct'])"
   ]
  },
  {
   "cell_type": "code",
   "execution_count": 152,
   "metadata": {},
   "outputs": [],
   "source": [
    "ct_ = rfr.predict(df_weather_by_loc[weather_vals])"
   ]
  },
  {
   "cell_type": "code",
   "execution_count": 154,
   "metadata": {},
   "outputs": [],
   "source": [
    "df_weather_by_loc['pred_corn'] = ct_"
   ]
  },
  {
   "cell_type": "code",
   "execution_count": 164,
   "metadata": {},
   "outputs": [],
   "source": [
    "df_out = df_weather_by_loc[['pred_corn']].reset_index()\n",
    "df_out['type']=1"
   ]
  },
  {
   "cell_type": "code",
   "execution_count": 166,
   "metadata": {},
   "outputs": [],
   "source": [
    "df_out.to_csv('/private/tmp/test_agged_predictions.csv')"
   ]
  },
  {
   "cell_type": "code",
   "execution_count": null,
   "metadata": {
    "collapsed": true
   },
   "outputs": [],
   "source": []
  }
 ],
 "metadata": {
  "kernelspec": {
   "display_name": "Python 2",
   "language": "python",
   "name": "python2"
  },
  "language_info": {
   "codemirror_mode": {
    "name": "ipython",
    "version": 2
   },
   "file_extension": ".py",
   "mimetype": "text/x-python",
   "name": "python",
   "nbconvert_exporter": "python",
   "pygments_lexer": "ipython2",
   "version": "2.7.9"
  }
 },
 "nbformat": 4,
 "nbformat_minor": 2
}
